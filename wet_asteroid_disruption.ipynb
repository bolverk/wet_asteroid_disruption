{
 "cells": [
  {
   "cell_type": "markdown",
   "metadata": {},
   "source": [
    "# Introduction\n",
    "\n",
    "The galactic centre holds many mysteries, one of which is the flares. These flares occur on a daily basis, and last for a few hours at a time. Their luminosity is around $10^{34.5}$ erg/s, which translates to a total energy of around $10^{38}$ erg. One idea proposed to explain these flares is the [ablation of asteroids](http://adsabs.harvard.edu/cgi-bin/bib_query?arXiv:1110.6872). It has been shown that this mechanism can deposit enough energy within the relevant time frame. In this notebook we explore how fast can this energy be radiated."
   ]
  },
  {
   "cell_type": "markdown",
   "metadata": {},
   "source": [
    "# Review of Wet Disruption\n",
    "\n",
    "Let us consider an asteroid with size $r_a$ and mass density $\\rho_a$. Suppose that it is moving radially toward a supermassive black hole with mass $M_h$. Suppose further that the number density of the diffuse matter varies with distance to the black hole as $n_d = k r^{-\\omega}$, where $\\omega = 3/2$, and the coefficient $k$ can be calibrated from the [Chandra measurements](http://iopscience.iop.org/article/10.1086/375145/fulltext/53430.text.html). As a result of the collision between the asteroid and the ambient medium, the asteroid heats up. We consider a monolithic, solid asteroid, and so to vaporise it, the energy per unit mass necessary is approximately given by the speed of elastic waves squared $c_e^2$. We proceed to calculate the radius at which enough energy is released due to the interaction between the asteroid and the ambient medium to vaporise the asteroid"
   ]
  },
  {
   "cell_type": "code",
   "execution_count": 13,
   "metadata": {},
   "outputs": [
    {
     "data": {
      "image/png": "[encoded data removed]",
      "text/latex": [
       "$$\\left(\\frac{G M_{h} k m_{p}}{c_{e}^{2} r_{a} \\rho_{a}}\\right)^{\\frac{1}{\\omega}}$$"
      ],
      "text/plain": [
       "        ___________\n",
       "       ╱ G⋅Mₕ⋅k⋅mₚ \n",
       "      ╱  ───────── \n",
       "omega╱     2       \n",
       "   ╲╱    cₑ ⋅rₐ⋅ρₐ "
      ]
     },
     "execution_count": 13,
     "metadata": {},
     "output_type": "execute_result"
    }
   ],
   "source": [
    "import sympy\n",
    "sympy.init_printing()\n",
    "k = sympy.Symbol('k') # Ambient density profile prefactor\n",
    "omega = sympy.Symbol('omega') # Ambient density profile exponent\n",
    "r = sympy.Symbol('r') # Distance from the black hole\n",
    "n = sympy.Symbol('n') # Density of diffuse gas\n",
    "c_e = sympy.Symbol('c_e') # Elastic wave speed\n",
    "r_a = sympy.Symbol('r_a') # Asteroid size\n",
    "rho_a = sympy.Symbol('rho_a') # Asteroid density\n",
    "G = sympy.Symbol('G') # Graviation constant\n",
    "M_h = sympy.Symbol('M_h') # Black hole mass\n",
    "m_p = sympy.Symbol('m_p') # Proton mass\n",
    "v_k = sympy.Symbol('v_k') # Keplerian velocity\n",
    "temp = sympy.Eq(c_e**2*r_a**3*rho_a, m_p*n*v_k**3*r_a**2*r/v_k)\n",
    "temp = temp.subs(n, k*r**(-omega))\n",
    "temp = temp.subs(v_k, sympy.sqrt(G*M_h/r))\n",
    "destruction_radius = sympy.solve(temp, r)[0]\n",
    "destruction_radius"
   ]
  },
  {
   "cell_type": "markdown",
   "metadata": {},
   "source": [
    "Substituting typical numbers"
   ]
  },
  {
   "cell_type": "code",
   "execution_count": 79,
   "metadata": {},
   "outputs": [
    {
     "data": {
      "image/png": "[encoded data removed]",
      "text/latex": [
       "$$0.190387458926805$$"
      ],
      "text/plain": [
       "0.190387458926805"
      ]
     },
     "execution_count": 79,
     "metadata": {},
     "output_type": "execute_result"
    }
   ],
   "source": [
    "import scipy.constants\n",
    "from sympy.physics.units import meter, kg, second, km, cm, kelvin, joule, gram\n",
    "M_sun = 2e30*kg\n",
    "pc = 3e18*cm\n",
    "au = 1.5e13*cm\n",
    "r_ch = sympy.Symbol('r_ch') # Radius of chandra measurements\n",
    "n_ch = sympy.Symbol('n_ch') # Number density in the chandra measurement\n",
    "temp = destruction_radius\n",
    "temp = temp.subs(sympy.solve(sympy.Eq(n_ch, k*r_ch**(-omega)),k,dict=True)[0])\n",
    "temp = temp.subs({G:scipy.constants.G*meter**3/kg/second**2,\n",
    "                  omega:sympy.Rational(3,2),\n",
    "                  c_e: 1e3*km/second,\n",
    "                  M_h: 4e6*M_sun,\n",
    "                  m_p:scipy.constants.m_p*kg,\n",
    "                  n_ch: 130/cm**3,\n",
    "                  r_ch: 0.04*pc,\n",
    "                  r_a: 1.0*km,\n",
    "                  rho_a: kg/meter**3\n",
    "                 })\n",
    "temp = temp.subs(km, 1000*meter)\n",
    "temp = temp.subs(meter, 100*cm)\n",
    "temp/au"
   ]
  },
  {
   "cell_type": "markdown",
   "metadata": {},
   "source": [
    "This is somewhat smaller than the value used in Zubovas et al 2011 (1 au). In the remainder of the notebook I'll still use the canonical value of 1 au, though.\n",
    "\n",
    "Also, I underestimate the speed of elastic waves. According to [Kraus et al 2012](http://onlinelibrary.wiley.com/doi/10.1029/2012JE004082/full), the speed should be closer to 5 km/s."
   ]
  },
  {
   "cell_type": "code",
   "execution_count": 64,
   "metadata": {},
   "outputs": [
    {
     "data": {
      "image/png": "[encoded data removed]",
      "text/latex": [
       "$$\\frac{5139.99027236434 meter}{second}$$"
      ],
      "text/plain": [
       "5139.99027236434⋅meter\n",
       "──────────────────────\n",
       "        second        "
      ]
     },
     "execution_count": 64,
     "metadata": {},
     "output_type": "execute_result"
    }
   ],
   "source": [
    "temp = (5130*kelvin)*(5150*joule/kg/kelvin)\n",
    "temp = temp.subs(joule, kg*meter**2/second**2)\n",
    "sympy.sqrt(temp).n()"
   ]
  },
  {
   "cell_type": "markdown",
   "metadata": {},
   "source": [
    "Available kinetic energy at the destruction radius"
   ]
  },
  {
   "cell_type": "code",
   "execution_count": 85,
   "metadata": {},
   "outputs": [
    {
     "data": {
      "image/png": "[encoded data removed]",
      "text/latex": [
       "$$8.67797641077418 \\cdot 10^{35}$$"
      ],
      "text/plain": [
       "8.67797641077418e+35"
      ]
     },
     "execution_count": 85,
     "metadata": {},
     "output_type": "execute_result"
    }
   ],
   "source": [
    "erg = gram*cm**2/second**2\n",
    "temp = G*M_h*rho_a*r_a**3/destruction_radius\n",
    "temp = temp.subs(sympy.solve(sympy.Eq(n_ch, k*r_ch**(-omega)),k,dict=True)[0])\n",
    "temp = temp.subs({G:scipy.constants.G*meter**3/kg/second**2,\n",
    "                  omega:sympy.Rational(3,2),\n",
    "                  c_e: 1e3*km/second,\n",
    "                  M_h: 4e6*M_sun,\n",
    "                  m_p:scipy.constants.m_p*kg,\n",
    "                  n_ch: 130/cm**3,\n",
    "                  r_ch: 0.04*pc,\n",
    "                  r_a: 10.0*km,\n",
    "                  rho_a: kg/meter**3\n",
    "                 })\n",
    "temp = temp.subs(km, 1000*meter)\n",
    "temp = temp.subs(meter, 100*cm)\n",
    "temp = temp.subs(kg, 1000*gram)\n",
    "temp/erg"
   ]
  },
  {
   "cell_type": "markdown",
   "metadata": {},
   "source": [
    "This energy is also much smaller than the typical energy in a flare ($10^{38}$ erg)"
   ]
  },
  {
   "cell_type": "markdown",
   "metadata": {},
   "source": [
    "# Radiation Efficiency"
   ]
  },
  {
   "cell_type": "markdown",
   "metadata": {},
   "source": [
    "Let's ignore the problems in the previous section and suppose that enough energy ($10^{38}$ erg) is injected into a medium with a density $10^8 \\, \\rm cm^{-3}$. This is achieved by converting the kinetic energy of the asteroid to thermal energy, and so the thermal velocity of the particles is equal to the keplerian velocity $0.1 c$.\n",
    "\n",
    "In this sections we explore four emission channels: Bremsstrahlung, inverse Compton, pair produciton and synchrotron emission."
   ]
  },
  {
   "cell_type": "markdown",
   "metadata": {},
   "source": [
    "## Bremsstrahlung"
   ]
  },
  {
   "cell_type": "markdown",
   "metadata": {},
   "source": [
    "The cooling time of plasma heated up to thermal velocities of $0.1 c$ is"
   ]
  },
  {
   "cell_type": "code",
   "execution_count": 113,
   "metadata": {},
   "outputs": [
    {
     "data": {
      "image/png": "[encoded data removed]",
      "text/latex": [
       "$$246.663437368004$$"
      ],
      "text/plain": [
       "246.663437368004"
      ]
     },
     "execution_count": 113,
     "metadata": {},
     "output_type": "execute_result"
    }
   ],
   "source": [
    "year = 1e7*second\n",
    "k_b = sympy.Symbol('k_b') # Boltzmann constant\n",
    "T = sympy.Symbol('T') # Temperature\n",
    "alpha = sympy.Symbol('alpha') # Fine structure constant\n",
    "m_e = sympy.Symbol('m_e') # Electron mass\n",
    "c = sympy.Symbol('c') # Speed of light\n",
    "r_e = sympy.Symbol('r_e') # Classical electron radius\n",
    "temp = n*k_b*T/(alpha*m_e*c**3*(n*r_e**3)**2*sympy.sqrt(k_b*T/m_e/c**2)/r_e**4)\n",
    "temp = temp.subs(T, m_p*(0.1*c)**2/k_b)\n",
    "temp = temp.subs({alpha:scipy.constants.alpha,\n",
    "                 n:1e8/cm**3,\n",
    "                 m_p:scipy.constants.m_p*kg,\n",
    "                 m_e:scipy.constants.m_e*kg,\n",
    "                 c:scipy.constants.c*meter/second,\n",
    "                 r_e:scipy.constants.physical_constants['classical electron radius'][0]*meter})\n",
    "temp = temp.subs(meter, 100*cm)\n",
    "temp/year"
   ]
  },
  {
   "cell_type": "markdown",
   "metadata": {},
   "source": [
    "## Inverse Compton"
   ]
  },
  {
   "cell_type": "markdown",
   "metadata": {},
   "source": [
    "The [bolometric luminosity](https://arxiv.org/ftp/arxiv/papers/1003/1003.1519.pdf) from SGR A\\* is $10^{35}$ erg/s. These photons can interact with the hot plasma and carry away energy. We calculate the cooling time from inverse compton"
   ]
  },
  {
   "cell_type": "code",
   "execution_count": 128,
   "metadata": {},
   "outputs": [
    {
     "data": {
      "image/png": "[encoded data removed]",
      "text/latex": [
       "$$126.33990336049$$"
      ],
      "text/plain": [
       "126.339903360490"
      ]
     },
     "execution_count": 128,
     "metadata": {},
     "output_type": "execute_result"
    }
   ],
   "source": [
    "L_h = sympy.Symbol('L_h')\n",
    "temp = n*k_b*T/(r_e**2*L_h/r**2)/n/(k_b*T/m_e/c**2)**2\n",
    "temp = temp.subs(T, m_p*(0.1*c)**2/k_b)\n",
    "temp = temp.subs({alpha:scipy.constants.alpha,\n",
    "                 n:1e8/cm**3,\n",
    "                 r: au,\n",
    "                 L_h: 1e35*erg/second,\n",
    "                 m_p:scipy.constants.m_p*kg,\n",
    "                 m_e:scipy.constants.m_e*kg,\n",
    "                 c:scipy.constants.c*meter/second,\n",
    "                 r_e:scipy.constants.physical_constants['classical electron radius'][0]*meter})\n",
    "temp = temp.subs(kg, 1000*gram)\n",
    "temp/year"
   ]
  },
  {
   "cell_type": "markdown",
   "metadata": {},
   "source": [
    "## Pair production"
   ]
  },
  {
   "cell_type": "markdown",
   "metadata": {},
   "source": [
    "Pair production can increase the number of charges in the plasma, and thus shorten the cooling time. However, with the energy available, pair production can only increase the density by a factor of"
   ]
  },
  {
   "cell_type": "code",
   "execution_count": 130,
   "metadata": {},
   "outputs": [
    {
     "data": {
      "image/png": "[encoded data removed]",
      "text/latex": [
       "$$18.3615267376007$$"
      ],
      "text/plain": [
       "18.3615267376007"
      ]
     },
     "execution_count": 130,
     "metadata": {},
     "output_type": "execute_result"
    }
   ],
   "source": [
    "L_h = sympy.Symbol('L_h')\n",
    "temp = (k_b*T/m_e/c**2)\n",
    "temp = temp.subs(T, m_p*(0.1*c)**2/k_b)\n",
    "temp = temp.subs({alpha:scipy.constants.alpha,\n",
    "                 n:1e8/cm**3,\n",
    "                 r: au,\n",
    "                 L_h: 1e35*erg/second,\n",
    "                 m_p:scipy.constants.m_p*kg,\n",
    "                 m_e:scipy.constants.m_e*kg,\n",
    "                 c:scipy.constants.c*meter/second,\n",
    "                 r_e:scipy.constants.physical_constants['classical electron radius'][0]*meter})\n",
    "temp = temp.subs(kg, 1000*gram)\n",
    "temp"
   ]
  },
  {
   "cell_type": "markdown",
   "metadata": {},
   "source": [
    "Even if the Bremsstrahlung cooling time would be shorter by this factor, it would still be about 10 years, and hence much larger than the few hours time scale.\n",
    "\n",
    "Pair production affect inverse Compton in a complex way. On the one hand, it increases the number of scatterers, which shortens the cooling time. On the other hand, it reduces the Lorentz factor, and hence increases the cooling time. The second effect is stronger, and hence the net effect is to increase the cooling time."
   ]
  },
  {
   "cell_type": "markdown",
   "metadata": {},
   "source": [
    "Pair production becomes important once the positron density becomes comparable to the baryon density. However, for this to happen, the hot gas has to first radiate 5% ($m_e c^2/ k T$) of its energy. From the discussion in the previous sections, this cannot happen on the flare time scale. "
   ]
  },
  {
   "cell_type": "markdown",
   "metadata": {},
   "source": [
    "## Synchrotron radiation"
   ]
  },
  {
   "cell_type": "markdown",
   "metadata": {},
   "source": [
    "The [magnetic field within a few au from SGR A\\*](https://arxiv.org/pdf/1512.01220.pdf) is estimated to be around a few tens of gauss. The cooling time from synchrotron emission would be"
   ]
  },
  {
   "cell_type": "code",
   "execution_count": 140,
   "metadata": {},
   "outputs": [
    {
     "data": {
      "image/png": "[encoded data removed]",
      "text/latex": [
       "$$5.78085810039285$$"
      ],
      "text/plain": [
       "5.78085810039285"
      ]
     },
     "execution_count": 140,
     "metadata": {},
     "output_type": "execute_result"
    }
   ],
   "source": [
    "hour = 3600*second\n",
    "B = sympy.Symbol('B') # Magnetic field\n",
    "gauss = sympy.sqrt(erg/cm**3)\n",
    "temp = k_b*T/(r_e**2*c*B**2)/(k_b*T/m_e/c**2)**2\n",
    "temp = temp.subs(T, m_p*(0.1*c)**2/k_b)\n",
    "temp = temp.subs({alpha:scipy.constants.alpha,\n",
    "                 n:1e8/cm**3,\n",
    "                 r: au,\n",
    "                 B:30*gauss,\n",
    "                 m_p:scipy.constants.m_p*kg,\n",
    "                 m_e:scipy.constants.m_e*kg,\n",
    "                 c:scipy.constants.c*meter/second,\n",
    "                 r_e:scipy.constants.physical_constants['classical electron radius'][0]*meter})\n",
    "temp = temp.subs(kg, 1000*gram)\n",
    "temp = temp.subs(meter, 100*cm)\n",
    "temp/hour"
   ]
  },
  {
   "cell_type": "markdown",
   "metadata": {},
   "source": [
    "This magnetic field is close to the equipartition value of plasma"
   ]
  },
  {
   "cell_type": "code",
   "execution_count": 149,
   "metadata": {},
   "outputs": [
    {
     "data": {
      "image/png": "[encoded data removed]",
      "text/latex": [
       "$$38.7721239152062$$"
      ],
      "text/plain": [
       "38.7721239152062"
      ]
     },
     "execution_count": 149,
     "metadata": {},
     "output_type": "execute_result"
    }
   ],
   "source": [
    "temp = sympy.sqrt(n*k_b*T)\n",
    "temp = temp.subs(T, m_p*(0.1*c)**2/k_b)\n",
    "temp = temp.subs({alpha:scipy.constants.alpha,\n",
    "                 n:1e8/cm**3,\n",
    "                 r: au,\n",
    "                 B:30*gauss,\n",
    "                 m_p:scipy.constants.m_p*kg,\n",
    "                 m_e:scipy.constants.m_e*kg,\n",
    "                 c:scipy.constants.c*meter/second,\n",
    "                 r_e:scipy.constants.physical_constants['classical electron radius'][0]*meter})\n",
    "temp = temp.subs(kg, 1000*gram)\n",
    "temp = temp.subs(meter, 100*cm)\n",
    "(temp/gauss).n()"
   ]
  },
  {
   "cell_type": "markdown",
   "metadata": {},
   "source": [
    "A synchrotron emission is consistent with [observations](http://adsabs.harvard.edu/abs/2009ApJ...698..676D). The effect of supra - thermal, Fermi accelerate particles has been considered in [this work](http://iopscience.iop.org/article/10.1088/0004-637X/726/1/54/pdf)."
   ]
  },
  {
   "cell_type": "code",
   "execution_count": null,
   "metadata": {
    "collapsed": true
   },
   "outputs": [],
   "source": []
  }
 ],
 "metadata": {
  "kernelspec": {
   "display_name": "Python 3",
   "language": "python",
   "name": "python3"
  },
  "language_info": {
   "codemirror_mode": {
    "name": "ipython",
    "version": 3
   },
   "file_extension": ".py",
   "mimetype": "text/x-python",
   "name": "python",
   "nbconvert_exporter": "python",
   "pygments_lexer": "ipython3",
   "version": "3.6.1"
  }
 },
 "nbformat": 4,
 "nbformat_minor": 2
}
